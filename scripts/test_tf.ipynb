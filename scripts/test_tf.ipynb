{
 "metadata": {
  "language_info": {
   "codemirror_mode": {
    "name": "ipython",
    "version": 3
   },
   "file_extension": ".py",
   "mimetype": "text/x-python",
   "name": "python",
   "nbconvert_exporter": "python",
   "pygments_lexer": "ipython3",
   "version": "2.7.17"
  },
  "orig_nbformat": 2,
  "kernelspec": {
   "name": "python271764bit37fec511d5934a7b9fc89900e0c0fcb5",
   "display_name": "Python 2.7.17 64-bit"
  },
  "metadata": {
   "interpreter": {
    "hash": "767d51c1340bd893661ea55ea3124f6de3c7a262a8b4abca0554b478b1e2ff90"
   }
  }
 },
 "nbformat": 4,
 "nbformat_minor": 2,
 "cells": [
  {
   "cell_type": "code",
   "execution_count": 14,
   "metadata": {},
   "outputs": [
    {
     "output_type": "stream",
     "name": "stdout",
     "text": [
      "[[[1. 2. 3.]\n  [4. 5. 6.]\n  [7. 8. 9.]]\n\n [[1. 2. 3.]\n  [4. 5. 6.]\n  [7. 8. 9.]]\n\n [[1. 2. 3.]\n  [4. 5. 6.]\n  [7. 8. 9.]]]\n[[[2.2662213 3.2662213 4.2662213]\n  [4.        5.        6.       ]\n  [5.7337787 6.7337787 7.7337787]]\n\n [[2.2662213 3.2662213 4.2662213]\n  [4.        5.        6.       ]\n  [5.7337787 6.7337787 7.7337787]]\n\n [[2.2662213 3.2662213 4.2662213]\n  [4.        5.        6.       ]\n  [5.7337787 6.7337787 7.7337787]]]\nhere\n[[[0.33236162 0.52490697 0.37123155 0.726592   0.16193511]\n  [0.54850836 0.72476141 0.29241226 0.75900113 0.56383803]\n  [0.24618776 0.59852254 0.91663467 0.45040472 0.75277576]\n  [0.98958039 0.95166289 0.6963308  0.04479124 0.04986475]]\n\n [[0.89115964 0.86579977 0.34812306 0.22438011 0.9699748 ]\n  [0.19913711 0.96179497 0.47753228 0.75300035 0.7811746 ]\n  [0.82374426 0.46895631 0.63962821 0.05084098 0.10290127]\n  [0.64983385 0.90493321 0.80291213 0.49651359 0.49307031]]\n\n [[0.16120286 0.97202778 0.57771724 0.6246083  0.88280442]\n  [0.90618008 0.71557984 0.51788216 0.30135511 0.42502326]\n  [0.36499832 0.44144884 0.25610934 0.80889762 0.77820584]\n  [0.6706953  0.78100196 0.78116982 0.58512689 0.17505233]]]\n(3, 4, 5)\n[[[0.         0.         0.         0.         0.        ]\n  [0.         0.         0.         0.         0.        ]\n  [0.         0.         0.         0.         0.        ]\n  [0.         0.         0.         0.         0.        ]]\n\n [[0.33236162 0.52490697 0.37123155 0.726592   0.16193511]\n  [0.54850836 0.72476141 0.29241226 0.75900113 0.56383803]\n  [0.24618776 0.59852254 0.91663467 0.45040472 0.75277576]\n  [0.98958039 0.95166289 0.6963308  0.04479124 0.04986475]]\n\n [[0.89115964 0.86579977 0.34812306 0.22438011 0.9699748 ]\n  [0.19913711 0.96179497 0.47753228 0.75300035 0.7811746 ]\n  [0.82374426 0.46895631 0.63962821 0.05084098 0.10290127]\n  [0.64983385 0.90493321 0.80291213 0.49651359 0.49307031]]]\n[[0.33236162 0.54850836 0.24618776 0.98958039]\n [0.89115964 0.19913711 0.82374426 0.64983385]\n [0.16120286 0.90618008 0.36499832 0.6706953 ]]\n"
     ]
    }
   ],
   "source": [
    "import tensorflow as tf\n",
    "import numpy as np\n",
    "import scipy\n",
    "\n",
    "\n",
    "input = np.array([  [  [1., 2., 3.], [4., 5., 6.], [7.,8.,9.]   ], [  [1., 2., 3.], [4., 5., 6.], [7.,8.,9.]   ], [  [1., 2., 3.], [4., 5., 6.], [7.,8.,9.]   ]   ])\n",
    "\n",
    "print(input)\n",
    "\n",
    "filter_image = scipy.ndimage.filters.gaussian_filter(input, [1, 1, 0])\n",
    "\n",
    "print(filter_image)\n",
    "\n",
    "print('here')\n",
    "g_img = np.random.rand(3,4,5)\n",
    "print(g_img)\n",
    "print(np.shape(g_img))\n",
    "print(scipy.ndimage.shift(g_img, [1,0,0]))\n",
    "print(g_img[:,:,0])"
   ]
  },
  {
   "cell_type": "code",
   "execution_count": 21,
   "metadata": {},
   "outputs": [
    {
     "output_type": "stream",
     "name": "stdout",
     "text": [
      "[0 1 2]\n[0 0 0]\n[0 0 0]\n"
     ]
    }
   ],
   "source": [
    "x,y,r = np.where(input == 1.)\n",
    "print(x)\n",
    "print(y)\n",
    "print(r)"
   ]
  },
  {
   "cell_type": "code",
   "execution_count": 20,
   "metadata": {},
   "outputs": [
    {
     "output_type": "stream",
     "name": "stdout",
     "text": [
      "1\n"
     ]
    }
   ],
   "source": [
    "g=1\n",
    "print(np.size(g))\n"
   ]
  },
  {
   "cell_type": "code",
   "execution_count": 24,
   "metadata": {},
   "outputs": [
    {
     "output_type": "stream",
     "name": "stdout",
     "text": [
      "[1 2 3]\n"
     ]
    }
   ],
   "source": [
    "z = [1,2,3,4,5,6,7,8,9]\n",
    "d = np.array(z).reshape(3,3)\n",
    "print(d[0])"
   ]
  },
  {
   "cell_type": "code",
   "execution_count": 26,
   "metadata": {},
   "outputs": [
    {
     "output_type": "stream",
     "name": "stdout",
     "text": [
      "0.699169443511\n"
     ]
    }
   ],
   "source": [
    "print(np.random.rand())"
   ]
  }
 ]
}